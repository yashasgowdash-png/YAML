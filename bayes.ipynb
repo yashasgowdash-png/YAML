{
 "cells": [
  {
   "cell_type": "code",
   "execution_count": 4,
   "id": "3f1dd53d-c433-408a-a334-a14528527c2c",
   "metadata": {},
   "outputs": [],
   "source": [
    "\n",
    "import numpy as np\n",
    "from sklearn.datasets import load_iris\n",
    "from sklearn.model_selection import train_test_split\n",
    "from sklearn.metrics import accuracy_score\n"
   ]
  },
  {
   "cell_type": "code",
   "execution_count": 5,
   "id": "1cf982b4-7a04-477a-a779-2dceede3c6ef",
   "metadata": {},
   "outputs": [
    {
     "name": "stdout",
     "output_type": "stream",
     "text": [
      "Features shape: (150, 4)\n",
      "Labels shape: (150,)\n"
     ]
    }
   ],
   "source": [
    "\n",
    "iris = load_iris()\n",
    "X = iris.data       # Features\n",
    "y = iris.target     # Labels\n",
    "\n",
    "print(f\"Features shape: {X.shape}\")\n",
    "print(f\"Labels shape: {y.shape}\")\n"
   ]
  },
  {
   "cell_type": "code",
   "execution_count": 6,
   "id": "03a50811-1d8c-4991-b88b-25b332f5a8ac",
   "metadata": {},
   "outputs": [
    {
     "name": "stdout",
     "output_type": "stream",
     "text": [
      "Training set size: 120\n",
      "Test set size: 30\n"
     ]
    }
   ],
   "source": [
    "\n",
    "X_train, X_test, y_train, y_test = train_test_split(\n",
    "    X, y, test_size=0.2, random_state=42, stratify=y)\n",
    "\n",
    "print(f\"Training set size: {X_train.shape[0]}\")\n",
    "print(f\"Test set size: {X_test.shape[0]}\")\n"
   ]
  },
  {
   "cell_type": "code",
   "execution_count": 7,
   "id": "886bf1b4-71ad-4012-a257-7972a91aecc8",
   "metadata": {},
   "outputs": [
    {
     "name": "stdout",
     "output_type": "stream",
     "text": [
      "Mean of class 0: [4.985  3.415  1.4775 0.255 ]\n",
      "Variance of class 0: [0.092775   0.155275   0.02524375 0.012975  ]\n",
      "Prior of class 0: 0.3333\n"
     ]
    }
   ],
   "source": [
    "\n",
    "\n",
    "classes = np.unique(y_train)   \n",
    "n_features = X_train.shape[1]\n",
    "\n",
    "\n",
    "mean = {}\n",
    "var = {}\n",
    "prior = {}\n",
    "\n",
    "\n",
    "for c in classes:\n",
    "    X_c = X_train[y_train == c]\n",
    "    mean[c] = X_c.mean(axis=0)\n",
    "    var[c] = X_c.var(axis=0)\n",
    "    prior[c] = X_c.shape[0] / X_train.shape[0]\n",
    "\n",
    "\n",
    "print(f\"Mean of class 0: {mean[0]}\")\n",
    "print(f\"Variance of class 0: {var[0]}\")\n",
    "print(f\"Prior of class 0: {prior[0]:.4f}\")\n"
   ]
  },
  {
   "cell_type": "code",
   "execution_count": 8,
   "id": "5afe56e7-d76a-40c2-8396-f0884f8566da",
   "metadata": {},
   "outputs": [],
   "source": [
    "\n",
    "\n",
    "def gaussian_pdf(x, mean, var):\n",
    "    eps = 1e-6  # To avoid division by zero\n",
    "    coefficient = 1.0 / np.sqrt(2.0 * np.pi * var + eps)\n",
    "    exponent = np.exp(- (x - mean) ** 2 / (2 * var + eps))\n",
    "    return coefficient * exponent\n"
   ]
  },
  {
   "cell_type": "code",
   "execution_count": 9,
   "id": "83c0611f-6096-4ab6-a2e5-19cc36123aeb",
   "metadata": {},
   "outputs": [],
   "source": [
    "\n",
    "\n",
    "def predict(X):\n",
    "    y_pred = []\n",
    "    for x in X:\n",
    "        posteriors = []\n",
    "        for c in classes:\n",
    "           \n",
    "            prior_log = np.log(prior[c])\n",
    "         \n",
    "            conditional_log = np.sum(np.log(gaussian_pdf(x, mean[c], var[c])))\n",
    "           \n",
    "            posterior = prior_log + conditional_log\n",
    "            posteriors.append(posterior)\n",
    "      \n",
    "        y_pred.append(classes[np.argmax(posteriors)])\n",
    "    return np.array(y_pred)\n"
   ]
  },
  {
   "cell_type": "code",
   "execution_count": 10,
   "id": "f3551c91-5b9d-4eb6-ba0c-e1cf7f92c9f3",
   "metadata": {},
   "outputs": [],
   "source": [
    "\n",
    "y_pred = predict(X_test)\n"
   ]
  },
  {
   "cell_type": "code",
   "execution_count": 11,
   "id": "b394d6fe-423a-4cad-98d1-590e1a4f936c",
   "metadata": {},
   "outputs": [
    {
     "name": "stdout",
     "output_type": "stream",
     "text": [
      "Accuracy of Gaussian Naive Bayes classifier (from scratch): 0.9667\n"
     ]
    }
   ],
   "source": [
    "accuracy = accuracy_score(y_test, y_pred)\n",
    "print(f\"Accuracy of Gaussian Naive Bayes classifier (from scratch): {accuracy:.4f}\")"
   ]
  },
  {
   "cell_type": "code",
   "execution_count": null,
   "id": "ba66dac2-ce4e-4a76-89a3-a55df609c43a",
   "metadata": {},
   "outputs": [],
   "source": []
  }
 ],
 "metadata": {
  "kernelspec": {
   "display_name": "Python [conda env:base] *",
   "language": "python",
   "name": "conda-base-py"
  },
  "language_info": {
   "codemirror_mode": {
    "name": "ipython",
    "version": 3
   },
   "file_extension": ".py",
   "mimetype": "text/x-python",
   "name": "python",
   "nbconvert_exporter": "python",
   "pygments_lexer": "ipython3",
   "version": "3.12.7"
  }
 },
 "nbformat": 4,
 "nbformat_minor": 5
}
