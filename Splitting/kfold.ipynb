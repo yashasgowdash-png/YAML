{
 "cells": [
  {
   "cell_type": "code",
   "execution_count": 1,
   "id": "ea4b9be8",
   "metadata": {},
   "outputs": [],
   "source": [
    "import numpy as np\n",
    "import pandas as pd\n",
    "from sklearn.model_selection import KFold\n",
    "from sklearn.linear_model import LogisticRegression\n",
    "from sklearn.metrics import accuracy_score"
   ]
  },
  {
   "cell_type": "code",
   "execution_count": 3,
   "id": "b57b6168",
   "metadata": {},
   "outputs": [
    {
     "name": "stdout",
     "output_type": "stream",
     "text": [
      "   feature1  feature2  feature3 feature4  target\n",
      "0  0.496714  4.174110        33        C       0\n",
      "1 -0.138264  2.221078        20        B       1\n",
      "2  0.647689  1.198654        29        A       0\n",
      "3  1.523030  3.376152        32        B       1\n",
      "4 -0.234153  9.429097        27        C       1\n"
     ]
    }
   ],
   "source": [
    "import numpy as np\n",
    "import pandas as pd\n",
    "\n",
    "np.random.seed(42)\n",
    "\n",
    "data = pd.DataFrame({\n",
    "    'feature1': np.random.randn(100),\n",
    "    'feature2': np.random.rand(100) * 10,\n",
    "    'feature3': np.random.randint(0, 50, 100),\n",
    "    'feature4': np.random.choice(['A', 'B', 'C'], 100),\n",
    "    'target': np.random.randint(0, 2, 100)\n",
    "})\n",
    "\n",
    "data.to_csv('dummy_dataset.csv', index=False)\n",
    "print(data.head())\n"
   ]
  },
  {
   "cell_type": "code",
   "execution_count": 5,
   "id": "248e864f",
   "metadata": {},
   "outputs": [],
   "source": [
    "data = pd.read_csv('dummy_dataset.csv')"
   ]
  },
  {
   "cell_type": "code",
   "execution_count": 6,
   "id": "4ba458bb",
   "metadata": {},
   "outputs": [],
   "source": [
    "X = data[['feature1', 'feature2', 'feature3']]\n",
    "y = data['target']"
   ]
  },
  {
   "cell_type": "code",
   "execution_count": 7,
   "id": "f3a9b0fd",
   "metadata": {},
   "outputs": [
    {
     "name": "stdout",
     "output_type": "stream",
     "text": [
      "K-Fold Accuracies: [0.35, 0.6, 0.45, 0.5, 0.5]\n",
      "Mean Accuracy: 0.48\n"
     ]
    }
   ],
   "source": [
    "kf = KFold(n_splits=5, shuffle=True, random_state=42)\n",
    "acc = []\n",
    "for train_index, test_index in kf.split(X):\n",
    "    X_train, X_test = X.iloc[train_index], X.iloc[test_index]\n",
    "    y_train, y_test = y.iloc[train_index], y.iloc[test_index]\n",
    "    model = LogisticRegression()\n",
    "    model.fit(X_train, y_train)\n",
    "    y_pred = model.predict(X_test)\n",
    "    acc.append(accuracy_score(y_test, y_pred))\n",
    "print(\"K-Fold Accuracies:\", acc)\n",
    "print(\"Mean Accuracy:\", np.mean(acc))"
   ]
  },
  {
   "cell_type": "code",
   "execution_count": null,
   "id": "f03033ce",
   "metadata": {},
   "outputs": [],
   "source": []
  }
 ],
 "metadata": {
  "kernelspec": {
   "display_name": "base",
   "language": "python",
   "name": "python3"
  },
  "language_info": {
   "codemirror_mode": {
    "name": "ipython",
    "version": 3
   },
   "file_extension": ".py",
   "mimetype": "text/x-python",
   "name": "python",
   "nbconvert_exporter": "python",
   "pygments_lexer": "ipython3",
   "version": "3.12.7"
  }
 },
 "nbformat": 4,
 "nbformat_minor": 5
}
